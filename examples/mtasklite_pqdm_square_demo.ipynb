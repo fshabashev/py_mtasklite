{
 "cells": [
  {
   "cell_type": "markdown",
   "id": "43bc6f70-770b-4e6a-8131-c20689b2b78f",
   "metadata": {},
   "source": [
    "## A function-based example"
   ]
  },
  {
   "cell_type": "code",
   "execution_count": 1,
   "id": "804e700b-5f33-44c7-b602-c4d6e6419e31",
   "metadata": {},
   "outputs": [
    {
     "data": {
      "application/vnd.jupyter.widget-view+json": {
       "model_id": "c410004af4104801bf71f8ac88da7038",
       "version_major": 2,
       "version_minor": 0
      },
      "text/plain": [
       "  0%|          | 0/5 [00:00<?, ?it/s]"
      ]
     },
     "metadata": {},
     "output_type": "display_data"
    },
    {
     "data": {
      "text/plain": [
       "[1, 4, 9, 16, 25]"
      ]
     },
     "execution_count": 1,
     "metadata": {},
     "output_type": "execute_result"
    }
   ],
   "source": [
    "from mtasklite.processes import pqdm\n",
    "\n",
    "def square(a):\n",
    "    return a*a\n",
    "\n",
    "input_arr = [1, 2, 3, 4, 5]\n",
    "\n",
    "n_jobs = 4 \n",
    "result = pqdm(input_arr, square, n_jobs)\n",
    "\n",
    "list(result)"
   ]
  },
  {
   "cell_type": "markdown",
   "id": "cb5c945e-422c-48fc-9f12-aa152619c24c",
   "metadata": {},
   "source": [
    "## A class-object-based example"
   ]
  },
  {
   "cell_type": "code",
   "execution_count": 6,
   "id": "e20755f1-3673-42f3-b2ab-847787f6d0ca",
   "metadata": {},
   "outputs": [
    {
     "data": {
      "application/vnd.jupyter.widget-view+json": {
       "model_id": "5966e2f7db754fd289dec0d995daee77",
       "version_major": 2,
       "version_minor": 0
      },
      "text/plain": [
       "  0%|          | 0/5 [00:00<?, ?it/s]"
      ]
     },
     "metadata": {},
     "output_type": "display_data"
    },
    {
     "data": {
      "text/plain": [
       "[1, 4, 9, 16, 25]"
      ]
     },
     "execution_count": 6,
     "metadata": {},
     "output_type": "execute_result"
    }
   ],
   "source": [
    "from mtasklite import delayed_init\n",
    "from mtasklite.processes import pqdm\n",
    "\n",
    "@delayed_init\n",
    "class Square:\n",
    "    def __init__(self, proc_id):\n",
    "        # It is important to import multiprocessing here (when using from the notebook)\n",
    "        import multiprocessing as mp\n",
    "        print(f'Initialized process ' + str(mp.current_process()) + ' with argument = {proc_id}\\n')\n",
    "    def __call__(self, a):\n",
    "        return a*a\n",
    "\n",
    "input_arr = [1, 2, 3, 4, 5]\n",
    "\n",
    "# Four workers with different arguments\n",
    "result = pqdm(input_arr, [Square(0), Square(1), Square(2), Square(3)])  \n",
    "\n",
    "list(result)"
   ]
  },
  {
   "cell_type": "markdown",
   "id": "c6ef8238-238a-4ce4-a3bc-5b7ed681abe3",
   "metadata": {},
   "source": [
    "## Mixing object and function-based workers"
   ]
  },
  {
   "cell_type": "code",
   "execution_count": 8,
   "id": "9454c004-2b1d-44db-aca7-ab695dd7b214",
   "metadata": {},
   "outputs": [
    {
     "data": {
      "application/vnd.jupyter.widget-view+json": {
       "model_id": "3d2774703a004064870ecf8f443f5703",
       "version_major": 2,
       "version_minor": 0
      },
      "text/plain": [
       "  0%|          | 0/5 [00:00<?, ?it/s]"
      ]
     },
     "metadata": {},
     "output_type": "display_data"
    },
    {
     "data": {
      "text/plain": [
       "[1, 4, 9, 16, 25]"
      ]
     },
     "execution_count": 8,
     "metadata": {},
     "output_type": "execute_result"
    }
   ],
   "source": [
    "from mtasklite import delayed_init\n",
    "from mtasklite.processes import pqdm\n",
    "import multiprocessing as mp\n",
    "\n",
    "@delayed_init\n",
    "class Square:\n",
    "    def __init__(self, proc_id):\n",
    "        # It is important to import multiprocessing here (when using from the notebook)\n",
    "        import multiprocessing as mp\n",
    "        print(f'Initialized process ' + str(mp.current_process()) + ' with argument = {proc_id}\\n')\n",
    "    def __call__(self, a):\n",
    "        return a*a\n",
    "\n",
    "def square(a):\n",
    "    return a*a\n",
    "\n",
    "input_arr = [1, 2, 3, 4, 5]\n",
    "\n",
    "# Four workers with different arguments\n",
    "result = pqdm(input_arr, [square, Square(1), Square(2), Square(3)])  \n",
    "\n",
    "list(result)"
   ]
  },
  {
   "cell_type": "code",
   "execution_count": null,
   "id": "573de0bc-bcf9-40d4-bd3a-6b8399edc3fa",
   "metadata": {},
   "outputs": [],
   "source": []
  }
 ],
 "metadata": {
  "kernelspec": {
   "display_name": "Python 3 (ipykernel)",
   "language": "python",
   "name": "python3"
  },
  "language_info": {
   "codemirror_mode": {
    "name": "ipython",
    "version": 3
   },
   "file_extension": ".py",
   "mimetype": "text/x-python",
   "name": "python",
   "nbconvert_exporter": "python",
   "pygments_lexer": "ipython3",
   "version": "3.12.7"
  }
 },
 "nbformat": 4,
 "nbformat_minor": 5
}
