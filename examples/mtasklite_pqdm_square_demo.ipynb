{
 "cells": [
  {
   "cell_type": "code",
   "execution_count": 1,
   "id": "4e61c292-75fb-4e3f-ad4a-63894ed96b8b",
   "metadata": {},
   "outputs": [],
   "source": [
    "from mtasklite import set_process_start_method\n",
    "# It's really important to do so on Mac\n",
    "set_process_start_method()"
   ]
  },
  {
   "cell_type": "code",
   "execution_count": 2,
   "id": "22c89370-135a-46bf-9e38-7b54f43ba9bb",
   "metadata": {},
   "outputs": [],
   "source": [
    "def square(a):\n",
    "    return a*a"
   ]
  },
  {
   "cell_type": "code",
   "execution_count": 3,
   "id": "804e700b-5f33-44c7-b602-c4d6e6419e31",
   "metadata": {},
   "outputs": [
    {
     "data": {
      "application/vnd.jupyter.widget-view+json": {
       "model_id": "e137b9288156405ca361a177ddd5d93e",
       "version_major": 2,
       "version_minor": 0
      },
      "text/plain": [
       "  0%|          | 0/5 [00:00<?, ?it/s]"
      ]
     },
     "metadata": {},
     "output_type": "display_data"
    },
    {
     "data": {
      "text/plain": [
       "[1, 4, 9, 16, 25]"
      ]
     },
     "execution_count": 3,
     "metadata": {},
     "output_type": "execute_result"
    }
   ],
   "source": [
    "from mtasklite.processes import pqdm\n",
    "\n",
    "input_arr = [1, 2, 3, 4, 5]\n",
    "\n",
    "result = pqdm(input_arr, square, 4)\n",
    "\n",
    "list(result)"
   ]
  },
  {
   "cell_type": "code",
   "execution_count": null,
   "id": "75abbc85-3e3f-42ee-9986-4b82232d4983",
   "metadata": {},
   "outputs": [],
   "source": []
  }
 ],
 "metadata": {
  "kernelspec": {
   "display_name": "Python 3 (ipykernel)",
   "language": "python",
   "name": "python3"
  },
  "language_info": {
   "codemirror_mode": {
    "name": "ipython",
    "version": 3
   },
   "file_extension": ".py",
   "mimetype": "text/x-python",
   "name": "python",
   "nbconvert_exporter": "python",
   "pygments_lexer": "ipython3",
   "version": "3.10.14"
  }
 },
 "nbformat": 4,
 "nbformat_minor": 5
}
