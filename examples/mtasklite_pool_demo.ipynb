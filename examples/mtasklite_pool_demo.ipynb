{
 "cells": [
  {
   "cell_type": "code",
   "execution_count": 1,
   "id": "8d065357-31fe-4e22-9641-030d4fe890a6",
   "metadata": {},
   "outputs": [],
   "source": [
    "from mtasklite import Pool, delayed_init, is_exception, set_process_start_method, ExceptionBehaviour, ArgumentPassing\n",
    "# Use of tqdm is optional!\n",
    "from tqdm.auto import tqdm "
   ]
  },
  {
   "cell_type": "code",
   "execution_count": 2,
   "id": "4e61c292-75fb-4e3f-ad4a-63894ed96b8b",
   "metadata": {},
   "outputs": [],
   "source": [
    "# It's really important to do so on Mac\n",
    "set_process_start_method()"
   ]
  },
  {
   "cell_type": "code",
   "execution_count": 3,
   "id": "22c89370-135a-46bf-9e38-7b54f43ba9bb",
   "metadata": {},
   "outputs": [],
   "source": [
    "import multiprocessing as mp\n",
    "\n",
    "@delayed_init\n",
    "class SimpleArithmeticClassWorker:\n",
    "    def __init__(self, proc_id):\n",
    "        print(f'Initialized process {mp.current_process()} passed ID = {proc_id}\\n')\n",
    "        self.proc_id = proc_id\n",
    "\n",
    "    def __call__(self, input_arg):\n",
    "        ret_val = input_arg\n",
    "        for t in range(100_000):\n",
    "            ret_val = (ret_val * ret_val) % 337\n",
    "        return ret_val"
   ]
  },
  {
   "cell_type": "code",
   "execution_count": 4,
   "id": "a74686e2-4377-48da-bfcc-3c30ba83c913",
   "metadata": {},
   "outputs": [],
   "source": [
    "N_TASKS = 1000      \n",
    "N_JOBS = 4\n",
    "TIMEOUT=None # Set to some small number, e.g., 1e-5 to see the timeout exception happening\n",
    "    \n",
    "input_arr = [k * 10 for k in range(N_TASKS)]\n",
    "function_or_worker_arr = [SimpleArithmeticClassWorker(proc_id) for proc_id in range(N_JOBS)]"
   ]
  },
  {
   "cell_type": "code",
   "execution_count": 5,
   "id": "53605e1b-c60c-4b8d-a598-f562efc8b5f3",
   "metadata": {},
   "outputs": [],
   "source": [
    "def sample_func(input_arg):\n",
    "    ret_val = input_arg\n",
    "    for t in range(100_000):\n",
    "        ret_val = (ret_val * ret_val) % 337\n",
    "    return ret_val"
   ]
  },
  {
   "cell_type": "code",
   "execution_count": 10,
   "id": "f1228764-d10b-4601-8069-ee8d900f0872",
   "metadata": {},
   "outputs": [
    {
     "data": {
      "application/vnd.jupyter.widget-view+json": {
       "model_id": "9b05fa2d063945ddb98cd6105059d668",
       "version_major": 2,
       "version_minor": 0
      },
      "text/plain": [
       "  0%|          | 0/1000 [00:00<?, ?it/s]"
      ]
     },
     "metadata": {},
     "output_type": "display_data"
    },
    {
     "name": "stdout",
     "output_type": "stream",
     "text": [
      "Initialized process <Process name='Process-17' parent=8302 started daemon> passed ID = 0\n",
      "Initialized process <Process name='Process-18' parent=8302 started daemon> passed ID = 1\n",
      "Initialized process <Process name='Process-19' parent=8302 started daemon> passed ID = 2\n",
      "Initialized process <Process name='Process-20' parent=8302 started daemon> passed ID = 3\n",
      "\n",
      "\n",
      "\n",
      "\n",
      "Total: 112152 True\n"
     ]
    }
   ],
   "source": [
    "tot_res = 0    \n",
    "\n",
    "with Pool(function_or_worker_arr,\n",
    "         argument_type=ArgumentPassing.AS_SINGLE_ARG,\n",
    "         exception_behavior=ExceptionBehaviour.IGNORE,\n",
    "         is_unordered=False,\n",
    "         task_timeout=TIMEOUT,\n",
    "         join_timeout=1) as proc_pool:\n",
    "\n",
    "    for result in tqdm(proc_pool(input_arr)):\n",
    "        # With deferred exceptions, they are simply returned as a part of the result object\n",
    "        if is_exception(result):\n",
    "            print('Error:', type(result), str(result))\n",
    "        else:\n",
    "            tot_res += result\n",
    "\n",
    "print('Total:', tot_res, proc_pool.exited)"
   ]
  }
 ],
 "metadata": {
  "kernelspec": {
   "display_name": "Python 3 (ipykernel)",
   "language": "python",
   "name": "python3"
  },
  "language_info": {
   "codemirror_mode": {
    "name": "ipython",
    "version": 3
   },
   "file_extension": ".py",
   "mimetype": "text/x-python",
   "name": "python",
   "nbconvert_exporter": "python",
   "pygments_lexer": "ipython3",
   "version": "3.10.14"
  }
 },
 "nbformat": 4,
 "nbformat_minor": 5
}
