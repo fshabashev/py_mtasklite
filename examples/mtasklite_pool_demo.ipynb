{
 "cells": [
  {
   "cell_type": "code",
   "execution_count": 1,
   "id": "8d065357-31fe-4e22-9641-030d4fe890a6",
   "metadata": {},
   "outputs": [],
   "source": [
    "from mtasklite import Pool, delayed_init, is_exception, set_process_start_method, ExceptionBehaviour, ArgumentPassing\n",
    "# Use of tqdm is optional!\n",
    "from tqdm.auto import tqdm "
   ]
  },
  {
   "cell_type": "code",
   "execution_count": 2,
   "id": "4e61c292-75fb-4e3f-ad4a-63894ed96b8b",
   "metadata": {},
   "outputs": [],
   "source": [
    "# It's really important to do so on Mac and Windows\n",
    "set_process_start_method()"
   ]
  },
  {
   "cell_type": "code",
   "execution_count": 10,
   "id": "22c89370-135a-46bf-9e38-7b54f43ba9bb",
   "metadata": {},
   "outputs": [],
   "source": [
    "@delayed_init\n",
    "class SimpleArithmeticClassWorker:\n",
    "    def __init__(self, proc_id):\n",
    "        print(f'Init. process {proc_id}\\n')\n",
    "        self.proc_id = proc_id\n",
    "\n",
    "    def __call__(self, input_arg):\n",
    "        ret_val = input_arg\n",
    "        for t in range(100_000):\n",
    "            ret_val = (ret_val * ret_val) % 337\n",
    "        return ret_val"
   ]
  },
  {
   "cell_type": "code",
   "execution_count": 15,
   "id": "a74686e2-4377-48da-bfcc-3c30ba83c913",
   "metadata": {},
   "outputs": [],
   "source": [
    "N_TASKS = 1000      \n",
    "N_JOBS = 4\n",
    "    \n",
    "input_arr = [k * 10 for k in range(N_TASKS)]\n",
    "function_or_worker_arr = [SimpleArithmeticClassWorker(proc_id) for proc_id in range(N_JOBS)]"
   ]
  },
  {
   "cell_type": "code",
   "execution_count": 17,
   "id": "f1228764-d10b-4601-8069-ee8d900f0872",
   "metadata": {},
   "outputs": [
    {
     "data": {
      "application/vnd.jupyter.widget-view+json": {
       "model_id": "c05952f1e18f4888b82c480bf59c1260",
       "version_major": 2,
       "version_minor": 0
      },
      "text/plain": [
       "  0%|          | 0/1000 [00:00<?, ?it/s]"
      ]
     },
     "metadata": {},
     "output_type": "display_data"
    },
    {
     "name": "stdout",
     "output_type": "stream",
     "text": [
      "Init. process 0\n",
      "\n",
      "Total: 112152\n"
     ]
    }
   ],
   "source": [
    "tot_res = 0    \n",
    "\n",
    "with Pool(function_or_worker_arr,\n",
    "         argument_passing=ArgumentPassing.AS_SINGLE_ARG,\n",
    "         exception_behavior=ExceptionBehaviour.DEFERRED,\n",
    "         is_unordered=False,\n",
    "         join_timeout=1) as proc_pool:\n",
    "\n",
    "    for result in tqdm(proc_pool(input_arr)):\n",
    "        # With deferred exceptions, they are simply returned as a part of the result object\n",
    "        if is_exception(result):\n",
    "            print('Error:', type(result), str(result))\n",
    "        else:\n",
    "            tot_res += result\n",
    "\n",
    "print('Total:', tot_res)"
   ]
  },
  {
   "cell_type": "code",
   "execution_count": null,
   "id": "f620e2ad-a5c6-409c-a79d-9540f13b7f9d",
   "metadata": {},
   "outputs": [],
   "source": []
  }
 ],
 "metadata": {
  "kernelspec": {
   "display_name": "Python 3 (ipykernel)",
   "language": "python",
   "name": "python3"
  },
  "language_info": {
   "codemirror_mode": {
    "name": "ipython",
    "version": 3
   },
   "file_extension": ".py",
   "mimetype": "text/x-python",
   "name": "python",
   "nbconvert_exporter": "python",
   "pygments_lexer": "ipython3",
   "version": "3.10.14"
  }
 },
 "nbformat": 4,
 "nbformat_minor": 5
}
